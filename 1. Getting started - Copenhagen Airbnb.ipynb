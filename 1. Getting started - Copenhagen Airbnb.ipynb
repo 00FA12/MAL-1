{
 "cells": [
  {
   "cell_type": "markdown",
   "metadata": {},
   "source": [
    "# 1. Getting Started: Airbnb Copenhagen"
   ]
  },
  {
   "cell_type": "markdown",
   "metadata": {},
   "source": [
    "This assignment deals with the most recent Airbnb listings in Copenhagen. The data is collected from [Inside Airbnb](http://insideairbnb.com/copenhagen). Feel free to explore the website further in order to better understand the data. The data (*listings.csv*) has been collected as raw data and needs to be preprocessed.\n",
    "\n",
    "**Hand-in:** Hand in as a group in Itslearning in a **single**, well-organized and easy-to-read Jupyter Notebook. Please just use this notebook to complete the assignment.\n",
    "\n",
    "If your group consists of students from different classes, upload in **both** classes.\n",
    "\n",
    "The first cell does some preprocessing. Please just run these cells and do not change anything. The assignment starts below. Make sure that listings.csv' is in the same folder as this notebook\n",
    "\n",
    "\n"
   ]
  },
  {
   "cell_type": "code",
   "metadata": {},
   "source": [
    "# pip install pandas\n",
    "# pip install scikit-learn\n",
    "import pandas as pd\n",
    "import sklearn as sk\n",
    "\n",
    "# load the data\n",
    "data = pd.read_csv('listings.csv')\n",
    "\n",
    "# filter relevant columns\n",
    "data_limited = data[[\"id\",\n",
    "    \"name\",\n",
    "    \"host_id\"  ,\n",
    "    \"host_name\" , \n",
    "    \"neighbourhood_cleansed\"  ,\n",
    "    \"latitude\"  ,\n",
    "    \"longitude\"  ,\n",
    "    \"room_type\"  ,\n",
    "    \"price\"  ,\n",
    "    \"minimum_nights\"  ,\n",
    "    \"number_of_reviews\",  \n",
    "    \"last_review\"  ,\n",
    "    \"review_scores_rating\"  ,\n",
    "    \"review_scores_accuracy\" , \n",
    "    \"review_scores_cleanliness\"  ,\n",
    "    \"review_scores_checkin\"  ,\n",
    "    \"review_scores_communication\"  ,\n",
    "    \"review_scores_location\"  ,\n",
    "    \"review_scores_value\"  ,\n",
    "    \"reviews_per_month\"  ,\n",
    "    \"calculated_host_listings_count\"  ,\n",
    "    \"availability_365\",]]\n",
    "\n",
    "# removing rows with no reviews\n",
    "\n",
    "data_filtered = data_limited.loc[data_limited['number_of_reviews'] != 0]\n",
    "\n",
    "# remove nan\n",
    "\n",
    "data_filtered = data_filtered.dropna()\n",
    "data_filtered.head()\n",
    "\n",
    "# get a list of distinct values from neighbourhood_cleansed columns in data_filtered\n",
    "\n",
    "neighbourhoods = data_filtered[\"neighbourhood_cleansed\"].unique()\n",
    "\n",
    "# replace e.g. Nrrbro with Nørrebro in neighbourhood_cleansed column\n",
    "\n",
    "data_filtered[\"neighbourhood_cleansed\"] = data_filtered[\"neighbourhood_cleansed\"].replace(\"Nrrebro\", \"Nørrebro\")\n",
    "data_filtered[\"neighbourhood_cleansed\"] = data_filtered[\"neighbourhood_cleansed\"].replace(\"sterbro\", \"Østerbro\")\n",
    "data_filtered[\"neighbourhood_cleansed\"] = data_filtered[\"neighbourhood_cleansed\"].replace(\"Vanlse\", \"Vanløse\")\n",
    "data_filtered[\"neighbourhood_cleansed\"] = data_filtered[\"neighbourhood_cleansed\"].replace(\"Brnshj-Husum\", \"Brønshøj-Husum\")\n",
    "neighbourhoods = data_filtered[\"neighbourhood_cleansed\"].unique()\n",
    "\n",
    "# Remove dollar signs and commas and convert to float - note the prices are actually in DKK\n",
    "data_filtered['price'] = data_filtered['price'].replace('[\\$,]', '', regex=True).astype(float)\n",
    "\n",
    "# Calculate the median price\n",
    "median_price = data_filtered['price'].median()\n",
    "\n",
    "# Create a new column 'price_category' with 0 for 'affordable' and 1 for 'expensive'\n",
    "data_filtered['price_category'] = (data_filtered['price'] > median_price).astype(int)\n",
    "\n",
    "display(data_filtered.head())\n",
    "\n",
    "# Describe the apartments using a wordcloud\n",
    "# Remember to install packages\n",
    "from wordcloud import WordCloud\n",
    "import matplotlib.pyplot as plt\n",
    "\n",
    "# Combine the two lists of stop words\n",
    "stop_words = ['Østerbro', 'Copenhagen', 'København', 'in', 'bedroom', 'bedrooms', 'bed', 'beds', 'bath', 'baths', 'Frederiksberg', 'V', 'Ø', 'SV', 'S', 'N', 'K', 'C', 'W', 'kbh', 'Ballerup', 'Hellerup', 'Valby', 'Vanløse', 'Brønhøj', 'Nørrebro', 'Vesterbro', \"CPH\", \"with\", \"to\", \"of\", \"a\", \"the\", \"på\", \"i\", \"med\", \"af\", \"at\", \"city\", \"by\", \"apartment\", \"appartment\", \"lejlighed\", \"flat\", \"m2\", \"apt\"]\n",
    "\n",
    "# Convert the 'name' column to a single string\n",
    "text = ' '.join(data_filtered['name'].astype(str))\n",
    "\n",
    "# Create and generate a word cloud image\n",
    "wordcloud = WordCloud(stopwords=stop_words, background_color=\"white\", width=800, height=400).generate(text)\n",
    "\n",
    "# Display the generated word cloud\n",
    "plt.figure(figsize=(10, 5))\n",
    "plt.imshow(wordcloud, interpolation='bilinear')\n",
    "plt.axis(\"off\")\n",
    "plt.show()"
   ],
   "outputs": [],
   "execution_count": null
  },
  {
   "cell_type": "markdown",
   "metadata": {},
   "source": [
    "## Your tasks start here"
   ]
  },
  {
   "cell_type": "markdown",
   "metadata": {},
   "source": [
    "\n",
    "### 1. Since data science is so much fun, provide a word cloud of the names of the hosts, removing any names of non-persons. Does this more or less correspond with the distribution of names according to [Danmarks Statistik](https://www.dst.dk/da/Statistik/emner/borgere/navne/navne-i-hele-befolkningen)?"
   ]
  },
  {
   "cell_type": "code",
   "metadata": {},
   "source": [
    "# State your solution here. Add more cells if needed.\n",
    "names = ' '.join(data_filtered['host_name'].astype(str))\n",
    "\n",
    "# Define the stopwords list to avoid showing companies\n",
    "sw = [\"Apartment inCopenhaguen\", \"ApartmentinCopenhaguen\"]\n",
    "\n",
    "wordcloud = WordCloud(stopwords=sw, background_color=\"white\", width=800, height=400).generate(names)\n",
    "\n",
    "plt.figure(figsize=(10, 5))\n",
    "plt.imshow(wordcloud, interpolation='bilinear')\n",
    "plt.axis(\"off\")\n",
    "plt.show()"
   ],
   "outputs": [],
   "execution_count": null
  },
  {
   "cell_type": "markdown",
   "metadata": {},
   "source": [
    "### 2. Using non-scaled versions of latitude and longitude, plot the listings data on a map."
   ]
  },
  {
   "cell_type": "code",
   "metadata": {},
   "source": [
    "# State your solution here. Add more cells if needed.\n",
    "varX = data_filtered['longitude']\n",
    "varY = data_filtered['latitude']\n",
    "\n",
    "fig, ax = plt.subplots()\n",
    "\n",
    "ax.scatter(varX, varY, c='blue', marker='o')\n",
    "\n",
    "ax.set_xlabel('Longitude')\n",
    "ax.set_ylabel('Latitude')\n",
    "ax.set_title('Map of Listings (Latitude vs Longitude)')\n",
    "\n",
    "plt.show()"
   ],
   "outputs": [],
   "execution_count": null
  },
  {
   "metadata": {},
   "cell_type": "code",
   "source": [
    "import folium\n",
    "\n",
    "# Assuming data_filtered contains 'latitude' and 'longitude' columns\n",
    "# Calculate the center of the map for the initial view\n",
    "map_center = [data_filtered['latitude'].mean(), data_filtered['longitude'].mean()]\n",
    "\n",
    "# Create a Folium map centered around the listings\n",
    "mymap = folium.Map(location=map_center, zoom_start=12)\n",
    "\n",
    "# Iterate through the data and add markers for each listing\n",
    "for idx, row in data_filtered.iterrows():\n",
    "    folium.Marker(\n",
    "        location=[row['latitude'], row['longitude']],\n",
    "        icon=folium.Icon(color='blue', icon='info-sign')\n",
    "    ).add_to(mymap)\n",
    "\n",
    "# Display the map, it takes close to a minute to render on my machine\n",
    "mymap"
   ],
   "outputs": [],
   "execution_count": null
  },
  {
   "cell_type": "markdown",
   "metadata": {},
   "source": [
    "### 3. Create boxplots where you have the neighbourhood on the x-axis and price on the y-axis. What does this tell you about the listings in Copenhagen? Keep the x-axis as is and move different variables into the y-axis to see how things are distributed between the neighborhoods to create different plots (your choice)."
   ]
  },
  {
   "cell_type": "code",
   "metadata": {},
   "source": [
    "import matplotlib.pyplot as plt\n",
    "\n",
    "data_filtered.boxplot(column='price', by='neighbourhood_cleansed', rot=90)\n",
    "\n",
    "plt.show()"
   ],
   "outputs": [],
   "execution_count": null
  },
  {
   "cell_type": "markdown",
   "metadata": {},
   "source": [
    "### 4. Do a descriptive analysis of the neighborhoods. Include information about room type in the analysis as well as one other self-chosen feature. The descriptive analysis should contain mean/average, mode, median, standard deviation/variance, minimum, maximum and quartiles."
   ]
  },
  {
   "cell_type": "code",
   "metadata": {},
   "source": [
    "# State your solution here. Add more cells if needed."
   ],
   "outputs": [],
   "execution_count": null
  },
  {
   "cell_type": "markdown",
   "metadata": {},
   "source": "  ### 5. Based on self-chosen features, develop three different regression models that can predict the price of a rental property. Remember to divide your data into training data and test data. Comment on your findings."
  }
 ],
 "metadata": {
  "kernelspec": {
   "display_name": "Python 3",
   "language": "python",
   "name": "python3"
  },
  "language_info": {
   "codemirror_mode": {
    "name": "ipython",
    "version": 3
   },
   "file_extension": ".py",
   "mimetype": "text/x-python",
   "name": "python",
   "nbconvert_exporter": "python",
   "pygments_lexer": "ipython3",
   "version": "3.9.6"
  },
  "orig_nbformat": 4
 },
 "nbformat": 4,
 "nbformat_minor": 2
}
